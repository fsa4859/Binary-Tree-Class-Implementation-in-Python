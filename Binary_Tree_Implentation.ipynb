{
  "nbformat": 4,
  "nbformat_minor": 0,
  "metadata": {
    "colab": {
      "name": "Untitled3.ipynb",
      "provenance": []
    },
    "kernelspec": {
      "name": "python3",
      "display_name": "Python 3"
    },
    "language_info": {
      "name": "python"
    }
  },
  "cells": [
    {
      "cell_type": "markdown",
      "source": [
        "Class Implementation of Binary Tree"
      ],
      "metadata": {
        "id": "Gj4fEJdnO7bM"
      }
    },
    {
      "cell_type": "code",
      "source": [
        "class BinaryTree(object):\n",
        "\n",
        "  def __init__(self,rootobj):\n",
        "    self.key=rootobj\n",
        "    self.leftChild=None\n",
        "    self.rightChild=None\n",
        "\n",
        "  def insertLeft(self,newNode):\n",
        "    if self.leftChild==None:\n",
        "      self.leftChild=BinaryTree(newNode)\n",
        "    else:\n",
        "      t=BinaryTree(newNode)\n",
        "      t.leftChild=self.leftChild\n",
        "      self.leftChild=t\n",
        "  \n",
        "  def insertRight(self,Newnode):\n",
        "    if self.rightChild==None:\n",
        "      self.rightChild=BinaryTree(Newnode)\n",
        "    else:\n",
        "      t=BinaryTree(Newnode)\n",
        "      t.rightChild=self.rightChild\n",
        "      self.rightChild=t\n",
        "  \n",
        "  def getRightChild(self):\n",
        "    return self.rightChild\n",
        "  \n",
        "  def getLeftChild(self):\n",
        "    return self.leftChild\n",
        "\n",
        "  def setRootVal(self,new_value):\n",
        "    self.key=new_value\n",
        "\n",
        "  def getRootVal(self):\n",
        "    return self.key\n"
      ],
      "metadata": {
        "id": "R2YzjQJyPEsU"
      },
      "execution_count": 1,
      "outputs": []
    },
    {
      "cell_type": "code",
      "source": [
        "root=BinaryTree(1)"
      ],
      "metadata": {
        "id": "F3RIbmdOQ19G"
      },
      "execution_count": 2,
      "outputs": []
    },
    {
      "cell_type": "code",
      "source": [
        "root.getLeftChild()"
      ],
      "metadata": {
        "id": "BpAVt8LVQ-V2"
      },
      "execution_count": 3,
      "outputs": []
    },
    {
      "cell_type": "code",
      "source": [
        "root.getRightChild()"
      ],
      "metadata": {
        "id": "SWzx6JOlRA6V"
      },
      "execution_count": 4,
      "outputs": []
    },
    {
      "cell_type": "code",
      "source": [
        "root.getRootVal()"
      ],
      "metadata": {
        "colab": {
          "base_uri": "https://localhost:8080/"
        },
        "id": "rN9DSF17RDQH",
        "outputId": "8f9bd0cb-10bd-43e2-c18a-0be4cfc7225e"
      },
      "execution_count": 5,
      "outputs": [
        {
          "output_type": "execute_result",
          "data": {
            "text/plain": [
              "1"
            ]
          },
          "metadata": {},
          "execution_count": 5
        }
      ]
    },
    {
      "cell_type": "code",
      "source": [
        "# now add left child\n",
        "\n",
        "root.insertLeft(5)"
      ],
      "metadata": {
        "id": "lv74tzJNRFgM"
      },
      "execution_count": 6,
      "outputs": []
    },
    {
      "cell_type": "code",
      "source": [
        "root.getLeftChild().getRootVal()"
      ],
      "metadata": {
        "colab": {
          "base_uri": "https://localhost:8080/"
        },
        "id": "T7SSiBbIRMmL",
        "outputId": "665426ce-52f9-4323-c654-ec6e133376be"
      },
      "execution_count": 8,
      "outputs": [
        {
          "output_type": "execute_result",
          "data": {
            "text/plain": [
              "5"
            ]
          },
          "metadata": {},
          "execution_count": 8
        }
      ]
    },
    {
      "cell_type": "code",
      "source": [
        "# now add another left child\n",
        "\n",
        "root.insertLeft(7)"
      ],
      "metadata": {
        "id": "GGcd1fIaRR-d"
      },
      "execution_count": 9,
      "outputs": []
    },
    {
      "cell_type": "code",
      "source": [
        "root.getLeftChild().getLeftChild().getRootVal()"
      ],
      "metadata": {
        "colab": {
          "base_uri": "https://localhost:8080/"
        },
        "id": "iw4gdcW7Rbkj",
        "outputId": "4dff5207-99e0-48bc-daee-eed77e95a19f"
      },
      "execution_count": 14,
      "outputs": [
        {
          "output_type": "execute_result",
          "data": {
            "text/plain": [
              "5"
            ]
          },
          "metadata": {},
          "execution_count": 14
        }
      ]
    },
    {
      "cell_type": "markdown",
      "source": [
        "**Tree Traversal Patterns: Pre-order, Inorder and Post order**\n",
        "\n"
      ],
      "metadata": {
        "id": "FjA3uewkRe9K"
      }
    },
    {
      "cell_type": "markdown",
      "source": [
        "**Pre-order**\n",
        "\n",
        "1- Visit the root node\n",
        "\n",
        "2- Traverse The left subtree (Recursive Manner)\n",
        "\n",
        "3- Traverse the right subtree (Recursive Manner)"
      ],
      "metadata": {
        "id": "DLauj_BeUWoP"
      }
    },
    {
      "cell_type": "code",
      "source": [
        "def preorder(tree):\n",
        "  if tree:\n",
        "    print(tree.getRootVal())\n",
        "    preorder(tree.getLeftChild())\n",
        "    preorder(tree.getRightChild())"
      ],
      "metadata": {
        "id": "6RSieVaLV2JR"
      },
      "execution_count": 42,
      "outputs": []
    },
    {
      "cell_type": "code",
      "source": [
        "tree=BinaryTree(1)"
      ],
      "metadata": {
        "id": "UxwcozMNWccH"
      },
      "execution_count": 16,
      "outputs": []
    },
    {
      "cell_type": "code",
      "source": [
        "tree.insertLeft(2)"
      ],
      "metadata": {
        "id": "idyGg35vWnPD"
      },
      "execution_count": 17,
      "outputs": []
    },
    {
      "cell_type": "code",
      "source": [
        "tree.insertLeft(3)"
      ],
      "metadata": {
        "id": "Fsdl5isUWw-a"
      },
      "execution_count": 18,
      "outputs": []
    },
    {
      "cell_type": "code",
      "source": [
        "tree.getRootVal()"
      ],
      "metadata": {
        "colab": {
          "base_uri": "https://localhost:8080/"
        },
        "id": "DH3tpSJfW0fa",
        "outputId": "1fb07eba-7680-42d5-fdf6-2ac3a8f2505b"
      },
      "execution_count": 19,
      "outputs": [
        {
          "output_type": "execute_result",
          "data": {
            "text/plain": [
              "1"
            ]
          },
          "metadata": {},
          "execution_count": 19
        }
      ]
    },
    {
      "cell_type": "code",
      "source": [
        "tree.getLeftChild().getRootVal()"
      ],
      "metadata": {
        "colab": {
          "base_uri": "https://localhost:8080/"
        },
        "id": "j2qXYa-3W6uK",
        "outputId": "3ae4b70e-ab1b-4f69-dea5-8db8d81fa08b"
      },
      "execution_count": 21,
      "outputs": [
        {
          "output_type": "execute_result",
          "data": {
            "text/plain": [
              "3"
            ]
          },
          "metadata": {},
          "execution_count": 21
        }
      ]
    },
    {
      "cell_type": "code",
      "source": [
        "tree.getLeftChild().insertRight(5)"
      ],
      "metadata": {
        "id": "x3oXXNVdW9Ez"
      },
      "execution_count": 25,
      "outputs": []
    },
    {
      "cell_type": "code",
      "source": [
        "tree.getRightChild()"
      ],
      "metadata": {
        "id": "romb1tOOXJYI"
      },
      "execution_count": 26,
      "outputs": []
    },
    {
      "cell_type": "code",
      "source": [
        "tree.getLeftChild().getRootVal()"
      ],
      "metadata": {
        "colab": {
          "base_uri": "https://localhost:8080/"
        },
        "id": "wQ-EpVztXvRy",
        "outputId": "fdbc4c9a-6546-43ff-e212-9111cdaed311"
      },
      "execution_count": 27,
      "outputs": [
        {
          "output_type": "execute_result",
          "data": {
            "text/plain": [
              "3"
            ]
          },
          "metadata": {},
          "execution_count": 27
        }
      ]
    },
    {
      "cell_type": "code",
      "source": [
        "tree.getLeftChild().getLeftChild().getRootVal()"
      ],
      "metadata": {
        "colab": {
          "base_uri": "https://localhost:8080/"
        },
        "id": "cuAp_-U-Xy-O",
        "outputId": "68ff5a10-3c53-4286-ba46-1629b38d06d3"
      },
      "execution_count": 30,
      "outputs": [
        {
          "output_type": "execute_result",
          "data": {
            "text/plain": [
              "2"
            ]
          },
          "metadata": {},
          "execution_count": 30
        }
      ]
    },
    {
      "cell_type": "code",
      "source": [
        "tree.getLeftChild().getRightChild().getRootVal()"
      ],
      "metadata": {
        "colab": {
          "base_uri": "https://localhost:8080/"
        },
        "id": "AUlIOSIaX68A",
        "outputId": "57109652-d49b-4b29-da4b-517aa0cbfeaf"
      },
      "execution_count": 31,
      "outputs": [
        {
          "output_type": "execute_result",
          "data": {
            "text/plain": [
              "5"
            ]
          },
          "metadata": {},
          "execution_count": 31
        }
      ]
    },
    {
      "cell_type": "code",
      "source": [
        "tree.insertRight(5)"
      ],
      "metadata": {
        "id": "P4-qYwH4YHaR"
      },
      "execution_count": 32,
      "outputs": []
    },
    {
      "cell_type": "code",
      "source": [
        "tree.getRightChild().getRootVal()"
      ],
      "metadata": {
        "colab": {
          "base_uri": "https://localhost:8080/"
        },
        "id": "diQlWx_oYPSJ",
        "outputId": "44e31521-79d6-42ee-8d73-96feb4a3ed22"
      },
      "execution_count": 33,
      "outputs": [
        {
          "output_type": "execute_result",
          "data": {
            "text/plain": [
              "5"
            ]
          },
          "metadata": {},
          "execution_count": 33
        }
      ]
    },
    {
      "cell_type": "code",
      "source": [
        "tree.getRightChild().insertLeft(6)"
      ],
      "metadata": {
        "id": "nO9pwwa-YSgW"
      },
      "execution_count": 34,
      "outputs": []
    },
    {
      "cell_type": "code",
      "source": [
        "tree.getRightChild().getLeftChild().getRootVal()"
      ],
      "metadata": {
        "colab": {
          "base_uri": "https://localhost:8080/"
        },
        "id": "awnxECSCYami",
        "outputId": "45c81d7a-8e24-4cc3-b394-6634f199ddd1"
      },
      "execution_count": 36,
      "outputs": [
        {
          "output_type": "execute_result",
          "data": {
            "text/plain": [
              "6"
            ]
          },
          "metadata": {},
          "execution_count": 36
        }
      ]
    },
    {
      "cell_type": "code",
      "source": [
        "tree.getRightChild().insertRight(7)"
      ],
      "metadata": {
        "id": "_8AfsjswYfNS"
      },
      "execution_count": 37,
      "outputs": []
    },
    {
      "cell_type": "code",
      "source": [
        "tree.getRightChild().getRightChild().getRootVal()"
      ],
      "metadata": {
        "colab": {
          "base_uri": "https://localhost:8080/"
        },
        "id": "hVkUgZMWYq8H",
        "outputId": "6878f715-1b13-4aa7-c27a-9bbf399d73e4"
      },
      "execution_count": 38,
      "outputs": [
        {
          "output_type": "execute_result",
          "data": {
            "text/plain": [
              "7"
            ]
          },
          "metadata": {},
          "execution_count": 38
        }
      ]
    },
    {
      "cell_type": "code",
      "source": [
        "preorder(tree)"
      ],
      "metadata": {
        "colab": {
          "base_uri": "https://localhost:8080/"
        },
        "id": "YD5KGaIxYvRD",
        "outputId": "184e894f-f3b8-43dd-dfb2-24c1f3276332"
      },
      "execution_count": 43,
      "outputs": [
        {
          "output_type": "stream",
          "name": "stdout",
          "text": [
            "1\n",
            "3\n",
            "2\n",
            "5\n",
            "5\n",
            "6\n",
            "7\n"
          ]
        }
      ]
    },
    {
      "cell_type": "markdown",
      "source": [
        "**Post Order**\n",
        "\n",
        "1- Traverse the left subtree\n",
        "\n",
        "2- Traverse the right subtree\n",
        "\n",
        "3- Root Node\n",
        "\n",
        "\n"
      ],
      "metadata": {
        "id": "-lEjiFjpY0Pn"
      }
    },
    {
      "cell_type": "code",
      "source": [
        "def postorder(tree):\n",
        "  if tree:\n",
        "    preorder(tree.getLeftChild())\n",
        "    preorder(tree.getRightChild())\n",
        "    print(tree.getRootVal())\n",
        "    \n"
      ],
      "metadata": {
        "id": "YYYYHyXHcpRe"
      },
      "execution_count": 44,
      "outputs": []
    },
    {
      "cell_type": "code",
      "source": [
        "postorder(tree)"
      ],
      "metadata": {
        "colab": {
          "base_uri": "https://localhost:8080/"
        },
        "id": "-1vRw32mdMq-",
        "outputId": "98c2637a-7989-46a6-d000-3dba980099f2"
      },
      "execution_count": 45,
      "outputs": [
        {
          "output_type": "stream",
          "name": "stdout",
          "text": [
            "3\n",
            "2\n",
            "5\n",
            "5\n",
            "6\n",
            "7\n",
            "1\n"
          ]
        }
      ]
    },
    {
      "cell_type": "markdown",
      "source": [
        "**in Order**\n",
        "\n",
        "1- Traverse the left subtree\n",
        "\n",
        "2- Root Node\n",
        "\n",
        "3- Traverse the right subtree\n"
      ],
      "metadata": {
        "id": "htD5ygsQdOZn"
      }
    },
    {
      "cell_type": "code",
      "source": [
        "def inorder(tree):\n",
        "  if tree:\n",
        "    preorder(tree.getLeftChild())\n",
        "    print(tree.getRootVal())\n",
        "    preorder(tree.getRightChild())\n"
      ],
      "metadata": {
        "id": "MobxlFCcdZAE"
      },
      "execution_count": 46,
      "outputs": []
    },
    {
      "cell_type": "code",
      "source": [
        "inorder(tree)"
      ],
      "metadata": {
        "colab": {
          "base_uri": "https://localhost:8080/"
        },
        "id": "5HgfMUWuddsx",
        "outputId": "e64d1440-8400-464d-f8a0-0ad72346312a"
      },
      "execution_count": 47,
      "outputs": [
        {
          "output_type": "stream",
          "name": "stdout",
          "text": [
            "3\n",
            "2\n",
            "5\n",
            "1\n",
            "5\n",
            "6\n",
            "7\n"
          ]
        }
      ]
    },
    {
      "cell_type": "markdown",
      "source": [
        "Example Tree:\n",
        "\n",
        "![image.png](data:image/png;base64,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)"
      ],
      "metadata": {
        "id": "J1hnk_PAdfJO"
      }
    },
    {
      "cell_type": "code",
      "source": [
        ""
      ],
      "metadata": {
        "id": "4ZW3k-S7evY_"
      },
      "execution_count": null,
      "outputs": []
    }
  ]
}