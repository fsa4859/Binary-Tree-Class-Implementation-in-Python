{
  "nbformat": 4,
  "nbformat_minor": 0,
  "metadata": {
    "colab": {
      "name": "Untitled3.ipynb",
      "provenance": []
    },
    "kernelspec": {
      "name": "python3",
      "display_name": "Python 3"
    },
    "language_info": {
      "name": "python"
    }
  },
  "cells": [
    {
      "cell_type": "markdown",
      "source": [
        "Class Implementation of Binary Tree"
      ],
      "metadata": {
        "id": "Gj4fEJdnO7bM"
      }
    },
    {
      "cell_type": "code",
      "source": [
        "class BinaryTree(object):\n",
        "\n",
        "  def __init__(self,rootobj):\n",
        "    self.key=rootobj\n",
        "    self.leftChild=None\n",
        "    self.rightChild=None\n",
        "\n",
        "  def insertLeft(self,newNode):\n",
        "    if self.leftChild==None:\n",
        "      self.leftChild=BinaryTree(newNode)\n",
        "    \n",
        "    else:\n",
        "      t=BinaryTree(newNode)\n",
        "      t.leftChild=self.leftChild\n",
        "      self.leftChild=t\n",
        "  \n",
        "  def insertRight(self,Newnode):\n",
        "    if self.rightChild==None:\n",
        "      self.rightChild=BinaryTree(Newnode)\n",
        "\n",
        "    else:\n",
        "      t=BinaryTree(Newnode)\n",
        "      t.rightChild=self.rightChild\n",
        "      self.rightChild=t\n",
        "  \n",
        "  def getRightChild(self):\n",
        "    return self.rightChild\n",
        "  \n",
        "  def getLeftChild(self):\n",
        "    return self.leftChild\n",
        "\n",
        "  def setRootVal(self,new_value):\n",
        "    self.key=new_value\n",
        "\n",
        "  def getRootVal(self):\n",
        "    return self.key\n"
      ],
      "metadata": {
        "id": "R2YzjQJyPEsU"
      },
      "execution_count": 1,
      "outputs": []
    },
    {
      "cell_type": "code",
      "source": [
        "root=BinaryTree(1)"
      ],
      "metadata": {
        "id": "F3RIbmdOQ19G"
      },
      "execution_count": 2,
      "outputs": []
    },
    {
      "cell_type": "code",
      "source": [
        "root.getLeftChild()"
      ],
      "metadata": {
        "id": "BpAVt8LVQ-V2"
      },
      "execution_count": 3,
      "outputs": []
    },
    {
      "cell_type": "code",
      "source": [
        "root.getRightChild()"
      ],
      "metadata": {
        "id": "SWzx6JOlRA6V"
      },
      "execution_count": 4,
      "outputs": []
    },
    {
      "cell_type": "code",
      "source": [
        "root.getRootVal()"
      ],
      "metadata": {
        "colab": {
          "base_uri": "https://localhost:8080/"
        },
        "id": "rN9DSF17RDQH",
        "outputId": "8f9bd0cb-10bd-43e2-c18a-0be4cfc7225e"
      },
      "execution_count": 5,
      "outputs": [
        {
          "output_type": "execute_result",
          "data": {
            "text/plain": [
              "1"
            ]
          },
          "metadata": {},
          "execution_count": 5
        }
      ]
    },
    {
      "cell_type": "code",
      "source": [
        "# now add left child\n",
        "\n",
        "root.insertLeft(5)"
      ],
      "metadata": {
        "id": "lv74tzJNRFgM"
      },
      "execution_count": 6,
      "outputs": []
    },
    {
      "cell_type": "code",
      "source": [
        "root.getLeftChild().getRootVal()"
      ],
      "metadata": {
        "colab": {
          "base_uri": "https://localhost:8080/"
        },
        "id": "T7SSiBbIRMmL",
        "outputId": "665426ce-52f9-4323-c654-ec6e133376be"
      },
      "execution_count": 8,
      "outputs": [
        {
          "output_type": "execute_result",
          "data": {
            "text/plain": [
              "5"
            ]
          },
          "metadata": {},
          "execution_count": 8
        }
      ]
    },
    {
      "cell_type": "code",
      "source": [
        "# now add another left child\n",
        "\n",
        "root.insertLeft(7)"
      ],
      "metadata": {
        "id": "GGcd1fIaRR-d"
      },
      "execution_count": 9,
      "outputs": []
    },
    {
      "cell_type": "code",
      "source": [
        "root.getLeftChild().getLeftChild().getRootVal()"
      ],
      "metadata": {
        "colab": {
          "base_uri": "https://localhost:8080/"
        },
        "id": "iw4gdcW7Rbkj",
        "outputId": "4dff5207-99e0-48bc-daee-eed77e95a19f"
      },
      "execution_count": 14,
      "outputs": [
        {
          "output_type": "execute_result",
          "data": {
            "text/plain": [
              "5"
            ]
          },
          "metadata": {},
          "execution_count": 14
        }
      ]
    },
    {
      "cell_type": "code",
      "source": [
        ""
      ],
      "metadata": {
        "id": "FjA3uewkRe9K"
      },
      "execution_count": null,
      "outputs": []
    }
  ]
}